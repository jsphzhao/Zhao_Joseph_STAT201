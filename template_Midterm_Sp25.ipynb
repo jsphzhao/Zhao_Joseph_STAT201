{
 "cells": [
  {
   "cell_type": "raw",
   "id": "db6908b1",
   "metadata": {
    "vscode": {
     "languageId": "raw"
    }
   },
   "source": [
    "---\n",
    "title: \"Midterm Coding\"\n",
    "subtitle: \"STAT 201\"\n",
    "author: \"YOUR NAME\"\n",
    "format:\n",
    "  html:\n",
    "    toc: true\n",
    "    embed-resources: true\n",
    "---"
   ]
  },
  {
   "cell_type": "markdown",
   "id": "14376537",
   "metadata": {},
   "source": [
    "### Instructions"
   ]
  },
  {
   "cell_type": "markdown",
   "id": "fe725fb7",
   "metadata": {},
   "source": [
    "1. **Write your name** at the top!\n",
    "2. Feel free to add additional cells as needed.\n",
    "3. Write your code in the *Code* cells of the **template provided** to write solutions for the assignment. **Do not open a new notebook**, and work from scratch. Ensure that the solution is written neatly enough to understand and grade.\n",
    "\n",
    "4. Use [Quarto](https://quarto.org/docs/output-formats/html-basics.html) to print the *.ipynb* file as HTML. You will need to open the terminal, navigate to the directory containing the file, and use the command: `quarto render filename.ipynb --to html`. Submit the HTML file.\n",
    "\n",
    "5. You are NOT permitted to use AI, internet, or eachother. You can use any amount of physical notes printed/written/typed that you would like.\n",
    "\n",
    "6. There are point deductions if your code is not clean and organized."
   ]
  },
  {
   "cell_type": "markdown",
   "id": "f73d9602",
   "metadata": {},
   "source": [
    "## Question 1: Collecting Even Numbers Until a Target Sum *(4 points)*"
   ]
  },
  {
   "cell_type": "markdown",
   "id": "8035f5ef",
   "metadata": {},
   "source": [
    "Continually **prompt the user** to enter an **even integer between 2 and 20**, inclusive.\n",
    "\n",
    "- Keep accepting input until the **sum of all valid entries** reaches or exceeds **50**.\n",
    "- If the input is **outside the range** 2 to 20, display:  \n",
    "  `\"Please enter a number between 2 and 20.\"`\n",
    "- If the input is **within the range** but **not even**, display:  \n",
    "  `\"That is not an even integer.\"`\n",
    "- Do **not** count invalid inputs toward the total. The program should **keep prompting** until the required condition is met.\n",
    "\n",
    "\n",
    "\n",
    "Once the program is complete print the following statement only **once**::\n",
    "\n",
    "                            \"You entered {} numbers that sum to {}.\" \n",
    "                                - the first {} is the count of the number of terms entered \n",
    "                                - the second {} is the sum of all the terms\n",
    "    \n",
    "Run your program with any values until it ends."
   ]
  },
  {
   "cell_type": "code",
   "execution_count": 24,
   "id": "a033a543",
   "metadata": {},
   "outputs": [
    {
     "ename": "TypeError",
     "evalue": "'int' object is not callable",
     "output_type": "error",
     "traceback": [
      "\u001b[0;31m---------------------------------------------------------------------------\u001b[0m",
      "\u001b[0;31mTypeError\u001b[0m                                 Traceback (most recent call last)",
      "Cell \u001b[0;32mIn[24], line 6\u001b[0m\n\u001b[1;32m      4\u001b[0m \u001b[38;5;28;01mwhile\u001b[39;00m total_sum \u001b[38;5;241m<\u001b[39m \u001b[38;5;241m50\u001b[39m:\n\u001b[1;32m      5\u001b[0m     \u001b[38;5;28;01mtry\u001b[39;00m:\n\u001b[0;32m----> 6\u001b[0m         num \u001b[38;5;241m=\u001b[39m \u001b[38;5;28mint\u001b[39m(\u001b[38;5;28;43minput\u001b[39;49m\u001b[43m(\u001b[49m\u001b[38;5;124;43m\"\u001b[39;49m\u001b[38;5;124;43mEnter an even integer between 2 and 20: \u001b[39;49m\u001b[38;5;124;43m\"\u001b[39;49m\u001b[43m)\u001b[49m)\n\u001b[1;32m      8\u001b[0m         \u001b[38;5;28;01mif\u001b[39;00m num \u001b[38;5;241m<\u001b[39m \u001b[38;5;241m2\u001b[39m \u001b[38;5;129;01mor\u001b[39;00m num \u001b[38;5;241m>\u001b[39m \u001b[38;5;241m20\u001b[39m:\n\u001b[1;32m      9\u001b[0m             \u001b[38;5;28mprint\u001b[39m(\u001b[38;5;124m\"\u001b[39m\u001b[38;5;124mPlease enter a number between 2 and 20.\u001b[39m\u001b[38;5;124m\"\u001b[39m)\n",
      "\u001b[0;31mTypeError\u001b[0m: 'int' object is not callable"
     ]
    }
   ],
   "source": [
    "total_sum = 0\n",
    "count = 0\n",
    "\n",
    "while total_sum < 50:\n",
    "    try:\n",
    "        num = int(input(\"Enter an even integer between 2 and 20: \"))\n",
    "        \n",
    "        if num < 2 or num > 20:\n",
    "            print(\"Please enter a number between 2 and 20.\")\n",
    "        elif num % 2 != 0:\n",
    "            print(\"That is not an even integer.\")\n",
    "        else:\n",
    "            total_sum += num\n",
    "            count += 1\n",
    "    except ValueError:\n",
    "        print(\"Invalid input. Please enter an integer.\")\n",
    "\n",
    "print(f\"\\nYou entered {count} numbers that sum to {total_sum}.\")"
   ]
  },
  {
   "cell_type": "markdown",
   "id": "f7c4752e",
   "metadata": {},
   "source": [
    "## Question 2: Counting Word Occurrences in a Sentence *(4 points)*\n",
    "\n",
    "#### Task:  \n",
    "Write a Python function named `count_word_occurrences` that accepts two arguments:  \n",
    "\n",
    "- **`word`** (a string) – the word to count.  \n",
    "- **`sentence`** (a string) – the sentence in which to count occurrences of the word.  \n",
    "\n",
    "The function should return the number of times the **exact word** appears in the sentence, regardless of case. The word should be matched as a **whole word**, not as part of another word (e.g., `\"sea\"` should **not** be counted in `\"seashore\"`).  \n",
    "\n",
    "#### Example Usage:  \n",
    "Use this function to count the occurrences of the word **\"sea\"** in the following sentence:  \n",
    "\n",
    "> `\"The seaside town celebrates the sea with a season of seafood festivals by the sea.\"`  "
   ]
  },
  {
   "cell_type": "code",
   "execution_count": 20,
   "id": "eaa6f88f",
   "metadata": {},
   "outputs": [
    {
     "name": "stdout",
     "output_type": "stream",
     "text": [
      "2\n"
     ]
    }
   ],
   "source": [
    "import re\n",
    "\n",
    "def count_word_occurrences(word, sentence):\n",
    "    pattern = rf'\\b{re.escape(word)}\\b'\n",
    "    return len(re.findall(pattern, sentence, re.IGNORECASE))\n",
    "\n",
    "sentence = \"The seaside town celebrates the sea with a season of seafood festivals by the sea.\"\n",
    "print(count_word_occurrences(\"sea\", sentence))"
   ]
  },
  {
   "cell_type": "markdown",
   "id": "3a7dad3a",
   "metadata": {},
   "source": [
    "## Question 3: Working with Python Lists *(4 points)*\n",
    "\n",
    "Create a list called `my_nums` that contains any 5 numbers of your choice.\n",
    "\n",
    "Complete the following sequence of tasks **in order**:\n",
    "\n",
    "- add the numbers 3, 8 and 15 to the end of your list\n",
    "- insert the number 1 into the **direct middle** of your list\n",
    "- create a new list called `not_by_3` that is created by iterating through `my_nums` and only including/adding numbers that are NOT divisible by 3\n",
    "- print your `not_by_3` list"
   ]
  },
  {
   "cell_type": "code",
   "execution_count": 21,
   "id": "852001db",
   "metadata": {},
   "outputs": [
    {
     "name": "stdout",
     "output_type": "stream",
     "text": [
      "[4, 7, 10, 11, 1, 8]\n"
     ]
    }
   ],
   "source": [
    "my_nums = [4, 7, 10, 11, 6]\n",
    "my_nums.extend([3, 8, 15])\n",
    "mid_index = len(my_nums) // 2\n",
    "my_nums.insert(mid_index, 1)\n",
    "\n",
    "not_by_3 = [num for num in my_nums if num % 3 != 0]\n",
    "print(not_by_3)"
   ]
  },
  {
   "cell_type": "markdown",
   "id": "f760d108",
   "metadata": {},
   "source": [
    "## Question 4: Categorizing Animals by Habitat Using a Single Loop *(5 points)*"
   ]
  },
  {
   "cell_type": "markdown",
   "id": "5844c652",
   "metadata": {},
   "source": [
    "Consider the `animal_habitat` object defined below which contains animals and their corresponding habitats."
   ]
  },
  {
   "cell_type": "code",
   "execution_count": 1,
   "id": "8a17aafd",
   "metadata": {},
   "outputs": [],
   "source": [
    "animal_habitat = {\n",
    "    \"lion\": \"savanna\",\n",
    "    \"elephant\": \"savanna\",\n",
    "    \"tiger\": \"forest\",\n",
    "    \"penguin\": \"polar\",\n",
    "    \"polar bear\": \"polar\",\n",
    "    \"kangaroo\": \"grassland\",\n",
    "    \"cheetah\": \"savanna\",\n",
    "    \"giraffe\": \"savanna\",\n",
    "    \"wolf\": \"forest\",\n",
    "    \"crocodile\": \"wetlands\",\n",
    "    \"otter\": \"wetlands\",\n",
    "    \"parrot\": \"rainforest\",\n",
    "    \"gorilla\": \"rainforest\",\n",
    "    \"dolphin\": \"ocean\",\n",
    "    \"whale\": \"ocean\",\n",
    "    \"eagle\": \"mountains\",\n",
    "    \"panda\": \"forest\"\n",
    "}"
   ]
  },
  {
   "cell_type": "markdown",
   "id": "7de88280",
   "metadata": {},
   "source": [
    "#### **Instructions:**\n",
    "Use the dictionary `animal_habitat` to create:\n",
    "\n",
    "- A **list** of all animals that live in the **savanna** (call it `savanna_animals`).\n",
    "- A **list** of all animals that live in the **forest** (call it `forest_animals`).\n",
    "- A **list** of all remaining animals (call it `other_animals`).\n",
    "- A **dictionary** (call it `habitat_count`) that counts the number of animals in the **savanna**, **forest**, and **other** habitats.\n",
    "\n",
    "#### **Constraints:**\n",
    "- This should be done within a **single loop**.\n",
    "- Initialize `habitat_count` with keys `\"savanna\"`, `\"forest\"`, and `\"other\"`, all starting with a value of `0`.\n",
    "\n",
    "#### **Hint:**\n",
    "Use **if-elif-else**  structure inside the loop to classify each animal based on its habitat."
   ]
  },
  {
   "cell_type": "code",
   "execution_count": 25,
   "id": "2101ebf3",
   "metadata": {},
   "outputs": [
    {
     "name": "stdout",
     "output_type": "stream",
     "text": [
      "Savanna animals: ['lion', 'elephant', 'cheetah', 'giraffe']\n",
      "Forest animals: ['tiger', 'wolf', 'panda']\n",
      "Other animals: ['penguin', 'polar bear', 'kangaroo', 'crocodile', 'otter', 'parrot', 'gorilla', 'dolphin', 'whale', 'eagle']\n",
      "Habitat count: {'savanna': 4, 'forest': 3, 'other': 10}\n"
     ]
    }
   ],
   "source": [
    "animal_habitat = {\n",
    "    \"lion\": \"savanna\",\n",
    "    \"elephant\": \"savanna\",\n",
    "    \"tiger\": \"forest\",\n",
    "    \"penguin\": \"polar\",\n",
    "    \"polar bear\": \"polar\",\n",
    "    \"kangaroo\": \"grassland\",\n",
    "    \"cheetah\": \"savanna\",\n",
    "    \"giraffe\": \"savanna\",\n",
    "    \"wolf\": \"forest\",\n",
    "    \"crocodile\": \"wetlands\",\n",
    "    \"otter\": \"wetlands\",\n",
    "    \"parrot\": \"rainforest\",\n",
    "    \"gorilla\": \"rainforest\",\n",
    "    \"dolphin\": \"ocean\",\n",
    "    \"whale\": \"ocean\",\n",
    "    \"eagle\": \"mountains\",\n",
    "    \"panda\": \"forest\"\n",
    "}\n",
    "\n",
    "# Initialize the lists\n",
    "savanna_animals = []\n",
    "forest_animals = []\n",
    "other_animals = []\n",
    "\n",
    "# Initialize the habitat count\n",
    "habitat_count = {\"savanna\": 0, \"forest\": 0, \"other\": 0}\n",
    "\n",
    "# Single loop to categorize and count\n",
    "for animal, habitat in animal_habitat.items():\n",
    "    if habitat == \"savanna\":\n",
    "        savanna_animals.append(animal)\n",
    "        habitat_count[\"savanna\"] += 1\n",
    "    elif habitat == \"forest\":\n",
    "        forest_animals.append(animal)\n",
    "        habitat_count[\"forest\"] += 1\n",
    "    else:\n",
    "        other_animals.append(animal)\n",
    "        habitat_count[\"other\"] += 1\n",
    "\n",
    "# Optional: print to verify results\n",
    "print(\"Savanna animals:\", savanna_animals)\n",
    "print(\"Forest animals:\", forest_animals)\n",
    "print(\"Other animals:\", other_animals)\n",
    "print(\"Habitat count:\", habitat_count)"
   ]
  },
  {
   "cell_type": "markdown",
   "id": "1859c028",
   "metadata": {},
   "source": [
    "## Question 5: Movie Profit Analysis *(3 points)*"
   ]
  },
  {
   "cell_type": "markdown",
   "id": "5fff5789",
   "metadata": {},
   "source": [
    "USA’s GDP per capita from 1960 to 2021 is given by the tuple `T` in the code cell below. The values are arranged in ascending order of the year, i.e., the first value is for 1960, the second value is for 1961, and so on."
   ]
  },
  {
   "cell_type": "code",
   "execution_count": null,
   "id": "eff179e5",
   "metadata": {},
   "outputs": [],
   "source": [
    "T = (3007, 3067, 3244, 3375,3574, 3828, 4146, 4336, 4696, 5032,5234,5609,6094,6726,7226,7801,8592,9453,10565,11674,12575,13976,14434,15544,17121,18237,19071,20039,21417,22857,23889,24342,25419,26387,27695,28691,29968,31459,32854,34515,36330,37134,37998,39490,41725,44123,46302,48050,48570,47195,48651,50066,51784,53291,55124,56763,57867,59915,62805,65095,63028,69288)"
   ]
  },
  {
   "cell_type": "markdown",
   "id": "de60cda9",
   "metadata": {},
   "source": [
    "####\n",
    "Use list comprehension to create a list of the gaps between consecutive entries in `T`, i.e, the increase in GDP per capita with respect to the previous year. The list with gaps should look like: [60, 177, …]. Let the name of this list be `GDP_increase`. (2 points)"
   ]
  },
  {
   "cell_type": "code",
   "execution_count": 23,
   "id": "d7cb13a0",
   "metadata": {},
   "outputs": [
    {
     "name": "stdout",
     "output_type": "stream",
     "text": [
      "GDP_increase: [60, 177, 131, 199, 254, 318, 190, 360, 336, 202, 375, 485, 632, 500, 575, 791, 861, 1112, 1109, 901, 1401, 458, 1110, 1577, 1116, 834, 968, 1378, 1440, 1032, 453, 1077, 968, 1308, 996, 1277, 1491, 1395, 1661, 1815, 804, 864, 1492, 2235, 2398, 2179, 1748, 520, -1375, 1456, 1415, 1718, 1507, 1833, 1639, 1104, 2048, 2890, 2290, -2067, 6260]\n",
      "Maximum GDP increase: 6260\n"
     ]
    }
   ],
   "source": [
    "T = (3007, 3067, 3244, 3375,3574, 3828, 4146, 4336, 4696, 5032,5234,5609,6094,6726,7226,7801,8592,9453,10565,11674,12575,13976,14434,15544,17121,18237,19071,20039,21417,22857,23889,24342,25419,26387,27695,28691,29968,31459,32854,34515,36330,37134,37998,39490,41725,44123,46302,48050,48570,47195,48651,50066,51784,53291,55124,56763,57867,59915,62805,65095,63028,69288)\n",
    "GDP_increase = [T[i] - T[i-1] for i in range(1, len(T))]\n",
    "\n",
    "max_increase = max(GDP_increase)\n",
    "print(\"GDP_increase:\", GDP_increase)\n",
    "print(\"Maximum GDP increase:\", max_increase)"
   ]
  },
  {
   "cell_type": "markdown",
   "id": "04b3d7e6",
   "metadata": {},
   "source": [
    "####\n",
    "Use `GDP_increase` to find the maximum gap size, i.e, the maximum increase in GDP per capita. (1 point)"
   ]
  },
  {
   "cell_type": "code",
   "execution_count": null,
   "id": "231176cb",
   "metadata": {},
   "outputs": [],
   "source": []
  },
  {
   "cell_type": "markdown",
   "id": "e3c73e2c",
   "metadata": {},
   "source": [
    "## Bonus Points *(3 points)*\n",
    "\n",
    "####\n",
    "Use list comprehension with `GDP_increase` to find the percentage of gaps that have size greater than $1000. (1 point)"
   ]
  },
  {
   "cell_type": "code",
   "execution_count": null,
   "id": "39a455c6",
   "metadata": {},
   "outputs": [],
   "source": []
  },
  {
   "cell_type": "markdown",
   "id": "ff4e3483",
   "metadata": {},
   "source": [
    "####\n",
    "Use list comprehension with `GDP_increase` to print the list of years in which the GDP per capita increase was more than $2000. (2 points)\n",
    "\n",
    "**Hint:** The `enumerate()` function may help."
   ]
  },
  {
   "cell_type": "code",
   "execution_count": null,
   "id": "667db7c7",
   "metadata": {},
   "outputs": [],
   "source": []
  }
 ],
 "metadata": {
  "kernelspec": {
   "display_name": ".venv",
   "language": "python",
   "name": "python3"
  },
  "language_info": {
   "codemirror_mode": {
    "name": "ipython",
    "version": 3
   },
   "file_extension": ".py",
   "mimetype": "text/x-python",
   "name": "python",
   "nbconvert_exporter": "python",
   "pygments_lexer": "ipython3",
   "version": "3.9.6"
  }
 },
 "nbformat": 4,
 "nbformat_minor": 5
}
