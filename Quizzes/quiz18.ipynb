{
 "cells": [
  {
   "cell_type": "code",
   "execution_count": null,
   "id": "f0d9d2ee",
   "metadata": {
    "vscode": {
     "languageId": "r"
    }
   },
   "outputs": [],
   "source": [
    "roll_die <- function() {\n",
    "  sample(1:6, 1)\n",
    "}\n",
    "\n",
    "for (i in 1:5) {\n",
    "  print(roll_die())\n",
    "}"
   ]
  },
  {
   "cell_type": "code",
   "execution_count": null,
   "id": "ed1576f7",
   "metadata": {
    "vscode": {
     "languageId": "r"
    }
   },
   "outputs": [],
   "source": [
    "roll_die <- function(size = 6, roll_times = 1) {\n",
    "  rolls <- sample(1:size, roll_times, replace = TRUE)\n",
    "  return(list(\n",
    "    rolls = rolls,\n",
    "    mean = mean(rolls),\n",
    "    sum = sum(rolls),\n",
    "    min = min(rolls),\n",
    "    max = max(rolls)\n",
    "  ))\n",
    "}\n",
    "\n",
    "result <- roll_die(size = 6, roll_times = 5)\n",
    "\n",
    "print(paste(\"The average of\", result$mean, \n",
    "            \"Sum:\", result$sum, \n",
    "            \"Min:\", result$min, \n",
    "            \"Max:\", result$max))"
   ]
  }
 ],
 "metadata": {
  "language_info": {
   "name": "python"
  }
 },
 "nbformat": 4,
 "nbformat_minor": 5
}
