{
 "cells": [
  {
   "cell_type": "code",
   "execution_count": null,
   "metadata": {
    "vscode": {
     "languageId": "yaml"
    }
   },
   "outputs": [],
   "source": [
    "---\n",
    "  title: \"Quiz 9\"\n",
    "  subtitle: \"STAT 201\"\n",
    "  author: \"Joseph Zhao\"\n",
    "  format:\n",
    "    html:\n",
    "      toc: true\n",
    "      embed-resources: true\n",
    "  jupyter: python3\n",
    "  ---"
   ]
  },
  {
   "cell_type": "code",
   "execution_count": 1,
   "metadata": {},
   "outputs": [
    {
     "name": "stdout",
     "output_type": "stream",
     "text": [
      "[0, 3, 4, 8, 9]\n"
     ]
    }
   ],
   "source": [
    "#Problem 10\n",
    "\n",
    "def sum_previous_elements(lst):\n",
    "    result = []\n",
    "    total = 0\n",
    "    for num in lst:\n",
    "        result.append(total)\n",
    "        total += num\n",
    "    return result\n",
    "\n",
    "input_list = [3, 1, 4, 1, 5]\n",
    "output = sum_previous_elements(input_list)\n",
    "print(output)  # Output: [0, 3, 4, 8, 9]"
   ]
  },
  {
   "cell_type": "code",
   "execution_count": 2,
   "metadata": {},
   "outputs": [
    {
     "name": "stdout",
     "output_type": "stream",
     "text": [
      "Mean age: 33\n",
      "Percentage age 30 or more: 38\n"
     ]
    }
   ],
   "source": [
    "# Problem 11 - Bonus Question\n",
    "\n",
    "exp_marriage_age = ['24','30','28','29','30','27','26','28','30+','26','28','30','30',\n",
    "                    '25','probably never','27','30','100','120','27']\n",
    "\n",
    "cleaned = [age for age in exp_marriage_age if age.isdigit()]\n",
    "\n",
    "capped = [min(int(age), 80) for age in cleaned]\n",
    "\n",
    "mean_age = sum(capped) // len(capped)\n",
    "\n",
    "count_30_or_more = sum(1 for age in capped if age >= 30)\n",
    "percentage = (count_30_or_more * 100) // len(capped)\n",
    "\n",
    "print(\"Mean age:\", mean_age)\n",
    "print(\"Percentage age 30 or more:\", percentage)"
   ]
  }
 ],
 "metadata": {
  "kernelspec": {
   "display_name": "Python 3",
   "language": "python",
   "name": "python3"
  },
  "language_info": {
   "codemirror_mode": {
    "name": "ipython",
    "version": 3
   },
   "file_extension": ".py",
   "mimetype": "text/x-python",
   "name": "python",
   "nbconvert_exporter": "python",
   "pygments_lexer": "ipython3",
   "version": "3.9.6"
  }
 },
 "nbformat": 4,
 "nbformat_minor": 2
}
